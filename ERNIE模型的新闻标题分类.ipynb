{
 "cells": [
  {
   "cell_type": "code",
   "execution_count": null,
   "metadata": {},
   "outputs": [],
   "source": [
    "\n",
    "# 使用pandas读取数据集\n",
    "%cd ~\n",
    "import pandas as pd\n",
    "train = pd.read_table('data/data103654/train.txt', sep='\\t',header=None)  # 训练集\n",
    "dev = pd.read_table('data/data103654/dev.txt', sep='\\t',header=None)      # 验证集（官方已经划分的）\n",
    "\n",
    "# 拼接训练和验证集，便于进行统计分析\n",
    "total = pd.concat([train,dev],axis=0)"
   ]
  },
  {
   "cell_type": "code",
   "execution_count": null,
   "metadata": {},
   "outputs": [],
   "source": [
    "# 总类别标签分布统计\n",
    "total[1].value_counts()"
   ]
  },
  {
   "cell_type": "markdown",
   "metadata": {},
   "source": [
    "科技    162245\n",
    "股票    153949\n",
    "体育    130982\n",
    "娱乐     92228\n",
    "时政     62867\n",
    "社会     50541\n",
    "教育     41680\n",
    "财经     36963\n",
    "家居     32363\n",
    "游戏     24283\n",
    "房产     19922\n",
    "时尚     13335\n",
    "彩票      7598\n",
    "星座      3515\n",
    "Name: 1, dtype: int64"
   ]
  },
  {
   "cell_type": "code",
   "execution_count": null,
   "metadata": {},
   "outputs": [],
   "source": [
    "import matplotlib\n",
    "import matplotlib.pyplot as plt\n",
    "\n",
    "import matplotlib.font_manager as font_manager\n",
    "\n",
    "# 设置显示中文\n",
    "matplotlib.rcParams['font.sans-serif'] = ['FZSongYi-Z13S'] # 指定默认字体\n",
    "matplotlib.rcParams['axes.unicode_minus'] = False # 解决保存图像是负号'-'显示为方块的问题\n",
    "# 设置字体大小\n",
    "matplotlib.rcParams['font.size'] = 16\n",
    "# 可视化类别标签分布情况\n",
    "total[1].value_counts(normalize=True).plot(kind='bar');"
   ]
  },
  {
   "cell_type": "markdown",
   "metadata": {},
   "source": [
    "# 文本长度统计分析,通过分析可以看出文本较短，最长为48\n",
    "total[0].map(len).describe()"
   ]
  },
  {
   "cell_type": "markdown",
   "metadata": {},
   "source": [
    "count    832471.000000\n",
    "mean         19.388112\n",
    "std           4.097139\n",
    "min           2.000000\n",
    "25%          17.000000\n",
    "50%          20.000000\n",
    "75%          23.000000\n",
    "max          48.000000\n",
    "Name: 0, dtype: float64"
   ]
  },
  {
   "cell_type": "code",
   "execution_count": null,
   "metadata": {},
   "outputs": [],
   "source": [
    "# 定义要进行分类的14个类别\n",
    "label_list=list(train[1].unique())\n",
    "print(label_list)"
   ]
  },
  {
   "cell_type": "markdown",
   "metadata": {},
   "source": [
    "['科技', '体育', '时政', '股票', '娱乐', '教育', '家居', '财经', '房产', '社会', '游戏', '彩票', '星座', '时尚']"
   ]
  },
  {
   "cell_type": "code",
   "execution_count": null,
   "metadata": {},
   "outputs": [],
   "source": [
    "# id 到 label转换\n",
    "id_label_dict={}\n",
    "for i in range(0,len(label_list)):\n",
    "    id_label_dict[i]=label_list[i]\n",
    "print(id_label_dict)\n",
    "#################################################\n",
    "# label到id转换\n",
    "label_id_dict={}\n",
    "for i in range(0,len(label_list)):\n",
    "    label_id_dict[label_list[i]]=i\n",
    "print(label_id_dict)"
   ]
  },
  {
   "cell_type": "markdown",
   "metadata": {},
   "source": [
    "{0: '科技', 1: '体育', 2: '时政', 3: '股票', 4: '娱乐', 5: '教育', 6: '家居', 7: '财经', 8: '房产', 9: '社会', 10: '游戏', 11: '彩票', 12: '星座', 13: '时尚'}\n",
    "{'科技': 0, '体育': 1, '时政': 2, '股票': 3, '娱乐': 4, '教育': 5, '家居': 6, '财经': 7, '房产': 8, '社会': 9, '游戏': 10, '彩票': 11, '星座': 12, '时尚': 13}"
   ]
  },
  {
   "cell_type": "code",
   "execution_count": null,
   "metadata": {},
   "outputs": [],
   "source": [
    "\n",
    "train[1]=train[1].apply(lambda x: label_id_dict[x])\n",
    "train.head()"
   ]
  },
  {
   "cell_type": "markdown",
   "metadata": {},
   "source": [
    "                       0  1\n",
    "0            网易第三季度业绩低于分析师预期  0\n",
    "1  巴萨1年前地狱重现这次却是天堂 再赴魔鬼客场必翻盘  1\n",
    "2         美国称支持向朝鲜提供紧急人道主义援助  2\n",
    "3           增资交银康联 交行夺参股险商首单  3\n",
    "4               午盘：原材料板块领涨大盘  3"
   ]
  },
  {
   "cell_type": "code",
   "execution_count": null,
   "metadata": {},
   "outputs": [],
   "source": [
    "# 保存处理后的数据集文件\n",
    "train.to_csv('mydata/train/train.txt', sep='\\t', header=None, index=False)  # 保存训练集，以\\t分隔开\n",
    "dev[1]=dev[1].apply(lambda x: label_id_dict[x])\n",
    "dev.to_csv('mydata/test/test.txt', sep='\\t', header=None, index=False)  # 保存训练集，以\\t分隔开"
   ]
  },
  {
   "cell_type": "code",
   "execution_count": null,
   "metadata": {},
   "outputs": [],
   "source": [
    "!unzip -qoa data/data158935/ERNIE3.zip\n",
    "%cd ~/ERNIE/applications/tasks/text_classification"
   ]
  },
  {
   "cell_type": "markdown",
   "metadata": {},
   "source": [
    "/home/aistudio/ERNIE/applications/tasks/text_classification"
   ]
  },
  {
   "cell_type": "markdown",
   "metadata": {},
   "source": [
    "%cd ../../models_hub\n",
    "!bash ./download_ernie_3.0_base_ch.sh\n",
    "%cd ../tasks/text_classification"
   ]
  },
  {
   "cell_type": "code",
   "execution_count": null,
   "metadata": {},
   "outputs": [],
   "source": [
    "##配置文件：./examples/cls_ernie_fc_ch.json\n",
    "{\n",
    "  \"dataset_reader\": {\n",
    "    \"train_reader\": {\n",
    "      \"name\": \"train_reader\",\n",
    "      \"type\": \"BasicDataSetReader\",\n",
    "      \"fields\": [\n",
    "        {\n",
    "          \"name\": \"text_a\",\n",
    "          \"data_type\": \"string\",\n",
    "          \"reader\": {\n",
    "            \"type\": \"ErnieTextFieldReader\"\n",
    "          },\n",
    "          \"tokenizer\": {\n",
    "            \"type\": \"FullTokenizer\",\n",
    "            \"split_char\": \" \",\n",
    "            \"unk_token\": \"[UNK]\"\n",
    "          },\n",
    "          \"need_convert\": true,\n",
    "          \"vocab_path\": \"../../models_hub/ernie_3.0_base_ch_dir/vocab.txt\",\n",
    "          \"max_seq_len\": 512,\n",
    "          \"truncation_type\": 0,\n",
    "          \"padding_id\": 0\n",
    "        },\n",
    "        {\n",
    "          \"name\": \"label\",\n",
    "          \"data_type\": \"int\",\n",
    "          \"reader\": {\n",
    "            \"type\": \"ScalarFieldReader\"\n",
    "          },\n",
    "          \"tokenizer\": null,\n",
    "          \"need_convert\": false,\n",
    "          \"vocab_path\": \"\",\n",
    "          \"max_seq_len\": 1,\n",
    "          \"truncation_type\": 0,\n",
    "          \"padding_id\": 0,\n",
    "          \"embedding\": null\n",
    "        }\n",
    "      ],\n",
    "      \"config\": {\n",
    "        \"data_path\": \"/home/aistudio/mydata/train\",\n",
    "        \"shuffle\": false,\n",
    "        \"batch_size\": 32,\n",
    "        \"epoch\": 5,\n",
    "        \"sampling_rate\": 1.0,\n",
    "        \"need_data_distribute\": true,\n",
    "        \"need_generate_examples\": false\n",
    "      }\n",
    "    },\n",
    "    \"test_reader\": {\n",
    "      \"name\": \"test_reader\",\n",
    "      \"type\": \"BasicDataSetReader\",\n",
    "      \"fields\": [\n",
    "        {\n",
    "          \"name\": \"text_a\",\n",
    "          \"data_type\": \"string\",\n",
    "          \"reader\": {\n",
    "            \"type\": \"ErnieTextFieldReader\"\n",
    "          },\n",
    "          \"tokenizer\": {\n",
    "            \"type\": \"FullTokenizer\",\n",
    "            \"split_char\": \" \",\n",
    "            \"unk_token\": \"[UNK]\"\n",
    "          },\n",
    "          \"need_convert\": true,\n",
    "          \"vocab_path\": \"../../models_hub/ernie_3.0_base_ch_dir/vocab.txt\",\n",
    "          \"max_seq_len\": 512,\n",
    "          \"truncation_type\": 0,\n",
    "          \"padding_id\": 0\n",
    "        },\n",
    "        {\n",
    "          \"name\": \"label\",\n",
    "          \"data_type\": \"int\",\n",
    "          \"need_convert\": false,\n",
    "          \"reader\": {\n",
    "            \"type\": \"ScalarFieldReader\"\n",
    "          },\n",
    "          \"tokenizer\": null,\n",
    "          \"vocab_path\": \"\",\n",
    "          \"max_seq_len\": 1,\n",
    "          \"truncation_type\": 0,\n",
    "          \"padding_id\": 0,\n",
    "          \"embedding\": null\n",
    "        }\n",
    "      ],\n",
    "      \"config\": {\n",
    "        \"data_path\": \"/home/aistudio/mydata/test\",\n",
    "        \"shuffle\": false,\n",
    "        \"batch_size\": 32,\n",
    "        \"epoch\": 1,\n",
    "        \"sampling_rate\": 1.0,\n",
    "        \"need_data_distribute\": false,\n",
    "        \"need_generate_examples\": false\n",
    "      }\n",
    "    }\n",
    "  },\n",
    "  \"model\": {\n",
    "    \"type\": \"ErnieClassification\",\n",
    "    \"is_dygraph\": 1,\n",
    "    \"optimization\": {\n",
    "      \"learning_rate\": 5e-05,\n",
    "      \"use_lr_decay\": true,\n",
    "      \"warmup_steps\": 0,\n",
    "      \"warmup_proportion\": 0.1,\n",
    "      \"weight_decay\": 0.01,\n",
    "      \"use_dynamic_loss_scaling\": false,\n",
    "      \"init_loss_scaling\": 128,\n",
    "      \"incr_every_n_steps\": 100,\n",
    "      \"decr_every_n_nan_or_inf\": 2,\n",
    "      \"incr_ratio\": 2.0,\n",
    "      \"decr_ratio\": 0.8\n",
    "    },\n",
    "    \"embedding\": {\n",
    "      \"config_path\": \"../../models_hub/ernie_3.0_base_ch_dir/ernie_config.json\"\n",
    "    },\n",
    "    \"num_labels\": 14\n",
    "  },\n",
    "  \"trainer\": {\n",
    "    \"type\": \"CustomDynamicTrainer\",\n",
    "    \"PADDLE_PLACE_TYPE\": \"gpu\",\n",
    "    \"PADDLE_IS_FLEET\": 1,\n",
    "    \"train_log_step\": 10,\n",
    "    \"use_amp\": true,\n",
    "    \"is_eval_dev\": 0,\n",
    "    \"is_eval_test\": 1,\n",
    "    \"eval_step\": 100,\n",
    "    \"save_model_step\": 200,\n",
    "    \"load_parameters\": \"\",\n",
    "    \"load_checkpoint\": \"\",\n",
    "    \"pre_train_model\": [\n",
    "      {\n",
    "        \"name\": \"ernie_3.0_base_ch\",\n",
    "        \"params_path\": \"../../models_hub/ernie_3.0_base_ch_dir/params\"\n",
    "      }\n",
    "    ],\n",
    "    \"output_path\": \"./output/cls_ernie_3.0_base_fc_ch_dy\",\n",
    "    \"extra_param\": {\n",
    "      \"meta\":{\n",
    "        \"job_type\": \"text_classification\"\n",
    "      }\n",
    "\n",
    "    }\n",
    "  }\n",
    "}"
   ]
  },
  {
   "cell_type": "code",
   "execution_count": null,
   "metadata": {},
   "outputs": [],
   "source": [
    "!cp ~/cls_ernie_fc_ch.json ./examples/cls_ernie_fc_ch.json"
   ]
  },
  {
   "cell_type": "code",
   "execution_count": null,
   "metadata": {},
   "outputs": [],
   "source": [
    "!python run_trainer.py --param_path ./examples/cls_ernie_fc_ch.json"
   ]
  },
  {
   "cell_type": "markdown",
   "metadata": {},
   "source": [
    "INFO: 07-20 09:34:05: custom_dynamic_trainer.py:96 * 139931327883008 epoch 1 progress 234497/752471 current learning rate: 3.69e-05\n",
    "INFO: 07-20 09:34:05: base_cls.py:88 * 139931327883008 phase = training loss = 0.1123419776558876 acc = 0.9678 precision = 0.9711 step = 960 time_cost = 6.1331\n",
    "INFO: 07-20 09:34:12: custom_dynamic_trainer.py:96 * 139931327883008 epoch 1 progress 244737/752471 current learning rate: 3.68e-05\n",
    "INFO: 07-20 09:34:12: base_cls.py:88 * 139931327883008 phase = training loss = 0.13989800214767456 acc = 0.9629 precision = 0.9569 step = 970 time_cost = 6.2258\n",
    "INFO: 07-20 09:34:18: custom_dynamic_trainer.py:96 * 139931327883008 epoch 1 progress 254977/752471 current learning rate: 3.67e-05\n",
    "INFO: 07-20 09:34:18: base_cls.py:88 * 139931327883008 phase = training loss = 0.09835822135210037 acc = 0.9678 precision = 0.9618 step = 980 time_cost = 6.3737\n",
    "INFO: 07-20 09:34:24: custom_dynamic_trainer.py:96 * 139931327883008 epoch 1 progress 265217/752471 current learning rate: 3.65e-05\n",
    "INFO: 07-20 09:34:24: base_cls.py:88 * 139931327883008 phase = training loss = 0.12024983763694763 acc = 0.9678 precision = 0.9678 step = 990 time_cost = 6.1577\n",
    "INFO: 07-20 09:34:31: custom_dynamic_trainer.py:96 * 139931327883008 epoch 1 progress 275457/752471 current learning rate: 3.64e-05\n",
    "INFO: 07-20 09:34:31: base_cls.py:88 * 139931327883008 phase = training loss = 0.08035919815301895 acc = 0.9688 precision = 0.9679 step = 1000 time_cost = 6.3367\n",
    "INFO: 07-20 09:35:19: base_cls.py:93 * 139931327883008 phase = test acc = 0.9702 precision = 0.969 time_cost = 48.1985 step = 79\n",
    "INFO: 07-20 09:35:19: custom_dynamic_trainer.py:157 * 139931327883008 eval step = 79\n",
    "INFO: 07-20 09:35:21: dynamic_trainer.py:170 * 139931327883008 save path: ./output/cls_ernie_3.0_base_fc_ch_dy/save_inference_model/inference_step_1000"
   ]
  },
  {
   "cell_type": "code",
   "execution_count": null,
   "metadata": {},
   "outputs": [],
   "source": [
    "{\n",
    "  \"dataset_reader\": {\n",
    "    \"predict_reader\": {\n",
    "      \"name\": \"predict_reader\",\n",
    "      \"type\": \"BasicDataSetReader\",\n",
    "      \"fields\": [\n",
    "        {\n",
    "          \"name\": \"text_a\",\n",
    "          \"data_type\": \"string\",\n",
    "          \"reader\": {\n",
    "            \"type\": \"ErnieTextFieldReader\"\n",
    "          },\n",
    "          \"tokenizer\": {\n",
    "            \"type\": \"FullTokenizer\",\n",
    "            \"split_char\": \" \",\n",
    "            \"unk_token\": \"[UNK]\",\n",
    "            \"params\": null\n",
    "          },\n",
    "          \"need_convert\": true,\n",
    "          \"vocab_path\": \"../../models_hub/ernie_3.0_base_ch_dir/vocab.txt\",\n",
    "          \"max_seq_len\": 512,\n",
    "          \"truncation_type\": 0,\n",
    "          \"padding_id\": 0,\n",
    "          \"embedding\": null\n",
    "        }\n",
    "      ],\n",
    "      \"config\": {\n",
    "      # 要预测的数据\n",
    "        \"data_path\": \"./data/predict_data\",\n",
    "        \"shuffle\": false,\n",
    "        \"batch_size\": 8,\n",
    "        \"epoch\": 1,\n",
    "        \"sampling_rate\": 1.0,\n",
    "        \"need_data_distribute\": false,\n",
    "        \"need_generate_examples\": true\n",
    "      }\n",
    "    }\n",
    "  },\n",
    "\n",
    "  \"inference\": {\n",
    "    \"type\": \"CustomInference\",\n",
    "    # 结果保存文件\n",
    "    \"output_path\": \"./output/predict_result.txt\",\n",
    "    \"PADDLE_PLACE_TYPE\": \"cpu\",\n",
    "    \"num_labels\": 2,\n",
    "    \"thread_num\": 2,\n",
    "    \"inference_model_path\": \"./output/cls_ernie_3.0_base_fc_ch_dy/save_inference_model/inference_step_251/\",\n",
    "    \"extra_param\": {\n",
    "      \"meta\":{\n",
    "        \"job_type\": \"text_classification\"\n",
    "      }\n",
    "\n",
    "    }\n",
    "  }\n",
    "}"
   ]
  },
  {
   "cell_type": "code",
   "execution_count": null,
   "metadata": {},
   "outputs": [],
   "source": [
    "# 制造预测目录\n",
    "!mkdir /home/aistudio/mydata/predict/\n",
    "!cp /home/aistudio/data/data103654/test.txt /home/aistudio/mydata/predict_data/infer.txt"
   ]
  },
  {
   "cell_type": "code",
   "execution_count": null,
   "metadata": {},
   "outputs": [],
   "source": [
    "%cd ~/ERNIE/applications/tasks/text_classification\n",
    "!cp  ~/run_infer.py run_infer.py "
   ]
  },
  {
   "cell_type": "markdown",
   "metadata": {},
   "source": [
    "/home/aistudio/ERNIE/applications/tasks/text_classification"
   ]
  },
  {
   "cell_type": "code",
   "execution_count": null,
   "metadata": {},
   "outputs": [],
   "source": [
    "! cp ~/cls_ernie_fc_ch_infer.json ./examples/cls_ernie_fc_ch_infer.json\n",
    "! python ./run_infer.py  --param_path ./examples/cls_ernie_fc_ch_infer.json"
   ]
  },
  {
   "cell_type": "code",
   "execution_count": null,
   "metadata": {},
   "outputs": [],
   "source": [
    "# 查看输出\n",
    "!head ./output/predict_result.txt"
   ]
  },
  {
   "cell_type": "code",
   "execution_count": null,
   "metadata": {},
   "outputs": [],
   "source": [
    "import pandas as pd\n",
    "predict=pd.read_csv('./output/predict_result.txt', header=None, sep='\\t')\n",
    "predict.head()"
   ]
  },
  {
   "cell_type": "markdown",
   "metadata": {},
   "source": [
    "                         0                                                  1\n",
    "0  北京君太百货璀璨秋色 满100省353020元  [0.053806886076927185, 0.003187569323927164, 0...\n",
    "1        教育部：小学高年级将开始学习性知识  [0.003998706582933664, 0.0019221440888941288, ...\n",
    "2    专业级单反相机 佳能7D单机售价9280元  [0.9984349608421326, 5.53653335373383e-05, 0.0...\n",
    "3      星展银行起诉内地客户 银行强硬客户无奈  [0.003201978513970971, 0.00043116536107845604,...\n",
    "4   脱离中国的实际 强压人民币大幅升值只能是梦想  [0.003938914742320776, 0.003025110810995102, 0..."
   ]
  }
 ],
 "metadata": {
  "language_info": {
   "name": "python"
  }
 },
 "nbformat": 4,
 "nbformat_minor": 2
}
